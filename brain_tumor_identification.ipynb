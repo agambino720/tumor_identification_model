{
 "cells": [
  {
   "cell_type": "markdown",
   "metadata": {},
   "source": [
    "Overview"
   ]
  },
  {
   "cell_type": "code",
   "execution_count": 2,
   "metadata": {},
   "outputs": [],
   "source": [
    "#importing necessary libraries\n",
    "import tensorflow as tf\n",
    "from tensorflow.keras import models, layers, regularizers\n",
    "from tensorflow.keras.preprocessing.image import ImageDataGenerator\n",
    "from tensorflow.keras.wrappers.scikit_learn import KerasClassifier\n",
    "from sklearn.model_selection import cross_val_predict\n",
    "import numpy as np\n",
    "from scikeras.wrappers import KerasClassifier\n",
    "import os\n",
    "import shutil\n",
    "from sklearn.model_selection import train_test_split"
   ]
  },
  {
   "cell_type": "code",
   "execution_count": 5,
   "metadata": {},
   "outputs": [
    {
     "name": "stdout",
     "output_type": "stream",
     "text": [
      "Initial file counts:\n",
      "Class 'glioma_tumor' has 901 images initially.\n",
      "Class 'meningioma_tumor' has 913 images initially.\n",
      "Class 'pituitary_tumor' has 844 images initially.\n",
      "Class 'normal' has 438 images initially.\n",
      "Data has been split into training, validation, and test sets.\n",
      "\n",
      "TRAIN SET:\n",
      "Class 'glioma_tumor' has 720 images in train set.\n",
      "Class 'meningioma_tumor' has 730 images in train set.\n",
      "Class 'pituitary_tumor' has 675 images in train set.\n",
      "Class 'normal' has 350 images in train set.\n",
      "\n",
      "VAL SET:\n",
      "Class 'glioma_tumor' has 90 images in val set.\n",
      "Class 'meningioma_tumor' has 91 images in val set.\n",
      "Class 'pituitary_tumor' has 84 images in val set.\n",
      "Class 'normal' has 44 images in val set.\n",
      "\n",
      "TEST SET:\n",
      "Class 'glioma_tumor' has 91 images in test set.\n",
      "Class 'meningioma_tumor' has 92 images in test set.\n",
      "Class 'pituitary_tumor' has 85 images in test set.\n",
      "Class 'normal' has 44 images in test set.\n"
     ]
    }
   ],
   "source": [
    "#Importing and splitting the data\n",
    "\n",
    "class_names = ['glioma_tumor', 'meningioma_tumor', 'pituitary_tumor', 'normal']\n",
    "\n",
    "train_ratio = 0.8\n",
    "val_ratio = 0.1\n",
    "test_ratio = 0.1\n",
    "\n",
    "def check_initial_counts(class_name):\n",
    "    images = os.listdir(class_name)\n",
    "    return len(images)\n",
    "\n",
    "print(\"Initial file counts:\")\n",
    "for class_name in class_names:\n",
    "    count = check_initial_counts(class_name)\n",
    "    print(f\"Class '{class_name}' has {count} images initially.\")\n",
    "\n",
    "split_dirs = ['train', 'val', 'test']\n",
    "for split_dir in split_dirs:\n",
    "    os.makedirs(split_dir, exist_ok=True)\n",
    "    for class_name in class_names:\n",
    "        os.makedirs(os.path.join(split_dir, class_name), exist_ok=True)\n",
    "\n",
    "def split_and_move_data(class_name):\n",
    "    images = os.listdir(class_name)  \n",
    "    \n",
    "    train_images, temp_images = train_test_split(images, test_size=(1 - train_ratio), random_state=42)\n",
    "    \n",
    "    val_images, test_images = train_test_split(temp_images, test_size=(test_ratio / (val_ratio + test_ratio)), random_state=42)\n",
    "\n",
    "    for image in train_images:\n",
    "        shutil.move(os.path.join(class_name, image), os.path.join('train', class_name, image))\n",
    "    for image in val_images:\n",
    "        shutil.move(os.path.join(class_name, image), os.path.join('val', class_name, image))\n",
    "    for image in test_images:\n",
    "        shutil.move(os.path.join(class_name, image), os.path.join('test', class_name, image))\n",
    "\n",
    "for class_name in class_names:\n",
    "    split_and_move_data(class_name)\n",
    "\n",
    "print(\"Data has been split into training, validation, and test sets.\")\n",
    "\n",
    "for split_dir in split_dirs:\n",
    "    print(f\"\\n{split_dir.upper()} SET:\")\n",
    "    for class_name in class_names:\n",
    "        dir_path = os.path.join(split_dir, class_name)\n",
    "        num_images = len(os.listdir(dir_path))\n",
    "        print(f\"Class '{class_name}' has {num_images} images in {split_dir} set.\")\n"
   ]
  },
  {
   "cell_type": "code",
   "execution_count": 6,
   "metadata": {},
   "outputs": [
    {
     "name": "stdout",
     "output_type": "stream",
     "text": [
      "Found 2475 images belonging to 4 classes.\n",
      "Found 309 images belonging to 4 classes.\n",
      "Found 312 images belonging to 4 classes.\n"
     ]
    }
   ],
   "source": [
    "# Setting up data generators for training (with augmentation), validation, and test sets, with images at 256x256 resolution\n",
    "\n",
    "train_datagen = ImageDataGenerator(\n",
    "    rescale=1./255,\n",
    "    rotation_range=20,\n",
    "    width_shift_range=0.2,\n",
    "    height_shift_range=0.2,\n",
    "    shear_range=0.2,\n",
    "    zoom_range=0.2,\n",
    "    horizontal_flip=True\n",
    ")\n",
    "\n",
    "val_test_datagen = ImageDataGenerator(rescale=1./255)\n",
    "\n",
    "train_generator = train_datagen.flow_from_directory(\n",
    "    'train',\n",
    "    target_size=(256, 256),\n",
    "    batch_size=32,\n",
    "    class_mode='binary'\n",
    ")\n",
    "\n",
    "val_generator = val_test_datagen.flow_from_directory(\n",
    "    'val',\n",
    "    target_size=(256, 256),\n",
    "    batch_size=32,\n",
    "    class_mode='binary'\n",
    ")\n",
    "\n",
    "test_generator = val_test_datagen.flow_from_directory(\n",
    "    'test',\n",
    "    target_size=(256, 256),\n",
    "    batch_size=32,\n",
    "    class_mode='binary'\n",
    ")\n"
   ]
  },
  {
   "cell_type": "code",
   "execution_count": null,
   "metadata": {},
   "outputs": [],
   "source": []
  }
 ],
 "metadata": {
  "kernelspec": {
   "display_name": "Python (learn-env)",
   "language": "python",
   "name": "learn-env"
  },
  "language_info": {
   "codemirror_mode": {
    "name": "ipython",
    "version": 3
   },
   "file_extension": ".py",
   "mimetype": "text/x-python",
   "name": "python",
   "nbconvert_exporter": "python",
   "pygments_lexer": "ipython3",
   "version": "3.8.5"
  }
 },
 "nbformat": 4,
 "nbformat_minor": 4
}
